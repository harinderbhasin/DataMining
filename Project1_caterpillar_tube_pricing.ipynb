### Data Set Description
#### Caterpillar builds large earth moving machines for constructions and mining. Each machine comprises of several smaller componenents including tubes to help keep the moving parts moving. There are two tube assemblies that come in a number of dimentions with several base materials, number of bends, bend radius, bolt patterns, and end types. Our team decided to use tubing data set for this project, predicting the price a supplier will quote for a given assembly.
#### The goal from the following section is to interrogate various contributing factors in the assembly, the structure/bend/dimension factor of each tube, sub components, vendor, and the pricing per quantity. The result of this section will produce a single data set with relevant attributes both continuous and categorical.
#### In an effort to create a single data set from several different data files SQL was used to do a join before further formatting the data. The outcome is a single data set consisting of approximately 30K records with 32 columns. This columns with different variable names are described below.
#### tube_assembly_id: This variable is to identify the tube.
#### supplier: This variable holds the vendor's identification number.
#### quote_date: This variable has the date of the quote. The formatting was done to this variable.
#### annual_usage: This variable is tied to the date of the quote and stores the usage.
#### min_order_quantity: This variable is tied to the price as the quantity is used for pricing.
#### bracket_pricing: This variable holds the pricing with or without bracket.
#### quantity: The cost is given assuming purchase of quantity of tubes.
#### cost tube_assembly: This variable holds the price based on the quantity ordered.
#### spec1 - spec10: These variables hold the unique specifications with respective codes for the tube assembly.
#### material_id: This variable holds the code for the material.
#### diameter: This variable holds the diameter of the ordered tube.
#### wall: This variable holds the thickness of the tube wall.
#### length: This variable holds the length of the tube.
#### num_bends: The variable holds the number of bends in a given tube assembly.
#### bend_radius: This varibale holds the radius of the respected bend.
#### end_a_1x, end_a_2x, end_x_1x, end_x_2x, end_a, end_x: These varibales hold the code for the shape of different ends of the tube.
#### num_boss: This variable holds the quantity of boss.
#### num_bracket: This variable holds the number of brackets in a given tube.

#### Tube Assemblies are made of multiple parts. The main piece is the tube which has a specific diameter, wall thickness, length, number of bends and bend radius. Either end of the tube (End A or End X) typically has some form of end connection allowing the tube assembly to attach to other features. Special tooling is typically required for short end straight lengths (end_a_1x, end_a_2x refer to if the end length is less than 1 times or 2 times the tube diameter, respectively). Other components can be permanently attached to a tube such as bosses, brackets or other custom features.
#### Prices can be quoted in 2 ways: bracket and non-bracket pricing. Bracket pricing has multiple levels of purchase based on quantity (in other words, the cost is given assuming a purchase of quantity tubes). Non-bracket pricing has a minimum order amount (min_order) for which the price would apply. Each quote is issued with an annual_usage, an estimate of how many tube assemblies will be purchased in a given year.

